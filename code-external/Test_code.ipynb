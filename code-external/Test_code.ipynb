{
 "cells": [
  {
   "cell_type": "markdown",
   "id": "9cd6050f",
   "metadata": {},
   "source": [
    "**This code will only run along with the original model code**."
   ]
  },
  {
   "cell_type": "code",
   "execution_count": null,
   "id": "601167c9",
   "metadata": {},
   "outputs": [],
   "source": [
    "import matplotlib.pyplot as plt\n",
    "import seaborn as sns\n",
    "\n",
    "\n",
    "posterior_slope = posterior_samples['slope']\n",
    "posterior_intercept = posterior_samples['intercept']\n",
    "\n",
    "\n",
    "num_features = posterior_slope.shape[1]\n",
    "\n",
    "fig, axes = plt.subplots(1, num_features + 1, figsize=(16, 5))\n",
    "\n",
    "\n",
    "for i in range(num_features):\n",
    "    sns.histplot(posterior_slope[:, i], kde=True, ax=axes[i])\n",
    "    axes[i].set_title(f'Posterior Distribution of Slope ({features[i]})')\n",
    "    axes[i].set_xlabel(f'Slope ({features[i]})')\n",
    "    axes[i].set_ylabel('Density')\n",
    "\n",
    "sns.histplot(posterior_intercept, kde=True, ax=axes[num_features])\n",
    "axes[num_features].set_title('Posterior Distribution of Intercept')\n",
    "axes[num_features].set_xlabel('Intercept')\n",
    "axes[num_features].set_ylabel('Density')\n",
    "\n",
    "plt.tight_layout()\n",
    "plt.show() \n"
   ]
  },
  {
   "cell_type": "code",
   "execution_count": null,
   "id": "2bd4513f",
   "metadata": {},
   "outputs": [],
   "source": [
    "import matplotlib.pyplot as plt\n",
    "\n",
    "\n",
    "predicted_values = torch.matmul(X_test, mean_slope) + mean_intercept\n",
    "\n",
    "\n",
    "actual_prices = y_test.numpy()\n",
    "predicted_prices = predicted_values.numpy()\n",
    "\n",
    "\n",
    "filter_condition = (actual_prices < 5) & (predicted_prices < 5)\n",
    "filtered_actual_prices = actual_prices[filter_condition]\n",
    "filtered_predicted_prices = predicted_prices[filter_condition]\n",
    "\n",
    "plt.figure(figsize=(8, 6))\n",
    "plt.scatter(filtered_actual_prices, filtered_predicted_prices, alpha=0.5, edgecolors='black')\n",
    "plt.xlabel('True House Price')\n",
    "plt.ylabel('Predicted House Price')\n",
    "plt.title('Predicted vs. True House Price (Test Set)')\n",
    "plt.grid(True)\n",
    "\n",
    "plt.show()\n"
   ]
  },
  {
   "cell_type": "code",
   "execution_count": null,
   "id": "32029d52",
   "metadata": {},
   "outputs": [],
   "source": [
    "mask = y_test < 5\n",
    "filtered_actual_prices = y_test[mask]\n",
    "filtered_predicted_prices = y_pred[mask]\n",
    "\n",
    "\n",
    "plt.figure(figsize=(8, 6))\n",
    "plt.scatter(filtered_actual_prices, filtered_predicted_prices, alpha=0.5, edgecolors='black')\n",
    "plt.xlabel('True House Price')\n",
    "plt.ylabel('Predicted House Price')\n",
    "plt.title('True vs. Predicted House Price (Test Set)')\n",
    "plt.grid(True)\n",
    "\n",
    "\n",
    "x_ticks = np.arange(0, 5.5, 0.5)\n",
    "plt.xticks(x_ticks)\n",
    "\n",
    "plt.show()\n"
   ]
  },
  {
   "cell_type": "markdown",
   "id": "5c2a6fea",
   "metadata": {},
   "source": [
    "**R² value computation**"
   ]
  },
  {
   "cell_type": "code",
   "execution_count": null,
   "id": "98358431",
   "metadata": {},
   "outputs": [],
   "source": [
    "r_squared = r2_score(y_test, y_pred)\n",
    "print(f'R-squared (R²) on the test set: {r_squared:.4f}')"
   ]
  }
 ],
 "metadata": {
  "kernelspec": {
   "display_name": "Python 3 (ipykernel)",
   "language": "python",
   "name": "python3"
  },
  "language_info": {
   "codemirror_mode": {
    "name": "ipython",
    "version": 3
   },
   "file_extension": ".py",
   "mimetype": "text/x-python",
   "name": "python",
   "nbconvert_exporter": "python",
   "pygments_lexer": "ipython3",
   "version": "3.9.16"
  }
 },
 "nbformat": 4,
 "nbformat_minor": 5
}
